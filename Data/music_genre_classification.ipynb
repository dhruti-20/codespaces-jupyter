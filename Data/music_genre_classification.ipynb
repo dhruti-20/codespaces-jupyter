{
  "cells": [
    {
      "cell_type": "code",
      "execution_count": 30,
      "metadata": {
        "colab": {
          "base_uri": "https://localhost:8080/"
        },
        "id": "JMOKBsRln25t",
        "outputId": "1678ef05-8ad8-41b0-dc02-2e584633e05c"
      },
      "outputs": [
        {
          "name": "stdout",
          "output_type": "stream",
          "text": [
            "Requirement already satisfied: python_speech_features in c:\\users\\asus\\appdata\\local\\packages\\pythonsoftwarefoundation.python.3.10_qbz5n2kfra8p0\\localcache\\local-packages\\python310\\site-packages (0.6)\n"
          ]
        },
        {
          "name": "stderr",
          "output_type": "stream",
          "text": [
            "\n",
            "[notice] A new release of pip is available: 23.0.1 -> 24.0\n",
            "[notice] To update, run: C:\\Users\\asus\\AppData\\Local\\Microsoft\\WindowsApps\\PythonSoftwareFoundation.Python.3.10_qbz5n2kfra8p0\\python.exe -m pip install --upgrade pip\n"
          ]
        },
        {
          "name": "stdout",
          "output_type": "stream",
          "text": [
            "Requirement already satisfied: scipy in c:\\users\\asus\\appdata\\local\\packages\\pythonsoftwarefoundation.python.3.10_qbz5n2kfra8p0\\localcache\\local-packages\\python310\\site-packages (1.13.1)\n",
            "Requirement already satisfied: numpy<2.3,>=1.22.4 in c:\\users\\asus\\appdata\\local\\packages\\pythonsoftwarefoundation.python.3.10_qbz5n2kfra8p0\\localcache\\local-packages\\python310\\site-packages (from scipy) (1.26.4)\n"
          ]
        },
        {
          "name": "stderr",
          "output_type": "stream",
          "text": [
            "\n",
            "[notice] A new release of pip is available: 23.0.1 -> 24.0\n",
            "[notice] To update, run: C:\\Users\\asus\\AppData\\Local\\Microsoft\\WindowsApps\\PythonSoftwareFoundation.Python.3.10_qbz5n2kfra8p0\\python.exe -m pip install --upgrade pip\n"
          ]
        },
        {
          "name": "stdout",
          "output_type": "stream",
          "text": [
            "Requirement already satisfied: numpy in c:\\users\\asus\\appdata\\local\\packages\\pythonsoftwarefoundation.python.3.10_qbz5n2kfra8p0\\localcache\\local-packages\\python310\\site-packages (1.26.4)\n"
          ]
        },
        {
          "name": "stderr",
          "output_type": "stream",
          "text": [
            "\n",
            "[notice] A new release of pip is available: 23.0.1 -> 24.0\n",
            "[notice] To update, run: C:\\Users\\asus\\AppData\\Local\\Microsoft\\WindowsApps\\PythonSoftwareFoundation.Python.3.10_qbz5n2kfra8p0\\python.exe -m pip install --upgrade pip\n"
          ]
        },
        {
          "name": "stdout",
          "output_type": "stream",
          "text": [
            "Requirement already satisfied: pandas in c:\\users\\asus\\appdata\\local\\packages\\pythonsoftwarefoundation.python.3.10_qbz5n2kfra8p0\\localcache\\local-packages\\python310\\site-packages (2.2.2)\n",
            "Requirement already satisfied: python-dateutil>=2.8.2 in c:\\users\\asus\\appdata\\local\\packages\\pythonsoftwarefoundation.python.3.10_qbz5n2kfra8p0\\localcache\\local-packages\\python310\\site-packages (from pandas) (2.9.0.post0)\n",
            "Requirement already satisfied: pytz>=2020.1 in c:\\users\\asus\\appdata\\local\\packages\\pythonsoftwarefoundation.python.3.10_qbz5n2kfra8p0\\localcache\\local-packages\\python310\\site-packages (from pandas) (2024.1)\n",
            "Requirement already satisfied: tzdata>=2022.7 in c:\\users\\asus\\appdata\\local\\packages\\pythonsoftwarefoundation.python.3.10_qbz5n2kfra8p0\\localcache\\local-packages\\python310\\site-packages (from pandas) (2024.1)\n",
            "Requirement already satisfied: numpy>=1.22.4 in c:\\users\\asus\\appdata\\local\\packages\\pythonsoftwarefoundation.python.3.10_qbz5n2kfra8p0\\localcache\\local-packages\\python310\\site-packages (from pandas) (1.26.4)\n",
            "Requirement already satisfied: six>=1.5 in c:\\users\\asus\\appdata\\local\\packages\\pythonsoftwarefoundation.python.3.10_qbz5n2kfra8p0\\localcache\\local-packages\\python310\\site-packages (from python-dateutil>=2.8.2->pandas) (1.16.0)\n"
          ]
        },
        {
          "name": "stderr",
          "output_type": "stream",
          "text": [
            "\n",
            "[notice] A new release of pip is available: 23.0.1 -> 24.0\n",
            "[notice] To update, run: C:\\Users\\asus\\AppData\\Local\\Microsoft\\WindowsApps\\PythonSoftwareFoundation.Python.3.10_qbz5n2kfra8p0\\python.exe -m pip install --upgrade pip\n",
            "ERROR: Could not find a version that satisfies the requirement scipy.io.wavfile (from versions: none)\n",
            "ERROR: No matching distribution found for scipy.io.wavfile\n",
            "\n",
            "[notice] A new release of pip is available: 23.0.1 -> 24.0\n",
            "[notice] To update, run: C:\\Users\\asus\\AppData\\Local\\Microsoft\\WindowsApps\\PythonSoftwareFoundation.Python.3.10_qbz5n2kfra8p0\\python.exe -m pip install --upgrade pip\n"
          ]
        },
        {
          "name": "stdout",
          "output_type": "stream",
          "text": [
            "Requirement already satisfied: python_speech_features in c:\\users\\asus\\appdata\\local\\packages\\pythonsoftwarefoundation.python.3.10_qbz5n2kfra8p0\\localcache\\local-packages\\python310\\site-packages (0.6)\n"
          ]
        },
        {
          "name": "stderr",
          "output_type": "stream",
          "text": [
            "\n",
            "[notice] A new release of pip is available: 23.0.1 -> 24.0\n",
            "[notice] To update, run: C:\\Users\\asus\\AppData\\Local\\Microsoft\\WindowsApps\\PythonSoftwareFoundation.Python.3.10_qbz5n2kfra8p0\\python.exe -m pip install --upgrade pip\n",
            "ERROR: Could not find a version that satisfies the requirement os (from versions: none)\n",
            "ERROR: No matching distribution found for os\n",
            "\n",
            "[notice] A new release of pip is available: 23.0.1 -> 24.0\n",
            "[notice] To update, run: C:\\Users\\asus\\AppData\\Local\\Microsoft\\WindowsApps\\PythonSoftwareFoundation.Python.3.10_qbz5n2kfra8p0\\python.exe -m pip install --upgrade pip\n"
          ]
        }
      ],
      "source": [
        "!pip install python_speech_features\n",
        "!pip install scipy\n",
        "!pip install numpy\n",
        "!pip install pandas\n",
        "!pip install scipy.io.wavfile\n",
        "!pip install python_speech_features"
      ]
    },
    {
      "cell_type": "code",
      "execution_count": 31,
      "metadata": {
        "id": "LW8DgYmooRRJ"
      },
      "outputs": [],
      "source": [
        "import numpy as np\n",
        "import pandas as pd\n",
        "import scipy.io.wavfile as wav\n",
        "from python_speech_features import mfcc\n",
        "from tempfile import TemporaryFile\n",
        "import os\n",
        "import math\n",
        "import pickle\n",
        "import random\n",
        "import operator"
      ]
    },
    {
      "cell_type": "code",
      "execution_count": 32,
      "metadata": {
        "id": "NbPvcYokozUk"
      },
      "outputs": [],
      "source": [
        "def getNeighbors(trainingset, instance, k):\n",
        "    distances = []\n",
        "    for x in range(len(trainingset)):\n",
        "        dist = distance(trainingset[x], instance, k) + distance(instance,trainingset[x],k)\n",
        "        distances.append((trainingset[x][2], dist))\n",
        "    distances.sort(key=operator.itemgetter(1))\n",
        "    neighbors = []\n",
        "    for x in range(k):\n",
        "        neighbors.append(distances[x][0])\n",
        "    return neighbors"
      ]
    },
    {
      "cell_type": "code",
      "execution_count": 33,
      "metadata": {
        "id": "mwrh4Nh8pGAR"
      },
      "outputs": [],
      "source": [
        "def nearestclass(neighbors):\n",
        "    classVote = {}\n",
        "\n",
        "    for x in range(len(neighbors)):\n",
        "        response = neighbors[x]\n",
        "        if response in classVote:\n",
        "            classVote[response] += 1\n",
        "        else:\n",
        "            classVote[response] = 1\n",
        "\n",
        "    sorter = sorted(classVote.items(), key=operator.itemgetter(1), reverse=True)\n",
        "    return sorter[0][0]"
      ]
    },
    {
      "cell_type": "code",
      "execution_count": 34,
      "metadata": {
        "id": "JjZXbYPKpufd"
      },
      "outputs": [],
      "source": [
        "def getAccuracy(testSet, prediction):\n",
        "    correct = 0\n",
        "    for x in range(len(testSet)):\n",
        "        if testSet[x][-1] == prediction[x]:\n",
        "            correct += 1\n",
        "    return 1.0 * correct / len(testSet)"
      ]
    },
    {
      "cell_type": "code",
      "execution_count": 35,
      "metadata": {
        "colab": {
          "base_uri": "https://localhost:8080/",
          "height": 211
        },
        "id": "Yun0fIGvxpSJ",
        "outputId": "29e8badc-91f0-41de-dd59-e3ee9a1333ae"
      },
      "outputs": [
        {
          "name": "stdout",
          "output_type": "stream",
          "text": [
            "Got an exception:  File format b'\\xcb\\x15\\x1e\\x16' not understood. Only 'RIFF' and 'RIFX' supported. in folder:  jazz  filename:  jazz.00054.wav\n"
          ]
        }
      ],
      "source": [
        "directory = 'C:/Users/asus/Downloads/Data/genres_original'\n",
        "\n",
        "f = open(\"mydataset.dat\", \"wb\")\n",
        "i = 0\n",
        "for folder in os.listdir(directory):\n",
        "    #print(folder)\n",
        "    i += 1\n",
        "    if i == 11:\n",
        "        break\n",
        "    for file in os.listdir(directory+\"/\"+folder):\n",
        "        #print(file)\n",
        "        try:\n",
        "            (rate, sig) = wav.read(directory+\"/\"+folder+\"/\"+file)\n",
        "            mfcc_feat = mfcc(sig, rate, winlen = 0.020, appendEnergy=False)\n",
        "            covariance = np.cov(np.matrix.transpose(mfcc_feat))\n",
        "            mean_matrix = mfcc_feat.mean(0)\n",
        "            feature = (mean_matrix, covariance, i)\n",
        "            pickle.dump(feature, f)\n",
        "        except Exception as e:\n",
        "            print(\"Got an exception: \", e, 'in folder: ', folder, ' filename: ', file)\n",
        "f.close()"
      ]
    },
    {
      "cell_type": "code",
      "execution_count": 36,
      "metadata": {
        "colab": {
          "base_uri": "https://localhost:8080/",
          "height": 297
        },
        "id": "1DLEf5Wmx5H4",
        "outputId": "4a573c00-3f05-4038-b997-60dbe749751b"
      },
      "outputs": [],
      "source": [
        "dataset = []\n",
        "\n",
        "def loadDataset(filename, split, trset, teset):\n",
        "    with open('mydataset.dat','rb') as f:\n",
        "        while True:\n",
        "            try:\n",
        "                dataset.append(pickle.load(f))\n",
        "            except EOFError:\n",
        "                f.close()\n",
        "                break\n",
        "    for x in range(len(dataset)):\n",
        "        if random.random() < split:\n",
        "            trset.append(dataset[x])\n",
        "        else:\n",
        "            teset.append(dataset[x])\n",
        "\n",
        "trainingSet = []\n",
        "testSet = []\n",
        "loadDataset('mydataset.dat', 0.68, trainingSet, testSet)"
      ]
    },
    {
      "cell_type": "code",
      "execution_count": 37,
      "metadata": {
        "id": "UwmxXkkeyEXQ"
      },
      "outputs": [],
      "source": [
        "def distance(instance1, instance2, k):\n",
        "    distance = 0\n",
        "    mm1 = instance1[0]\n",
        "    cm1 = instance1[1]\n",
        "    mm2 = instance2[0]\n",
        "    cm2 = instance2[1]\n",
        "    distance = np.trace(np.dot(np.linalg.inv(cm2), cm1))\n",
        "    distance += (np.dot(np.dot((mm2-mm1).transpose(), np.linalg.inv(cm2)), mm2-mm1))\n",
        "    distance += np.log(np.linalg.det(cm2)) - np.log(np.linalg.det(cm1))\n",
        "    distance -= k\n",
        "    return distance"
      ]
    },
    {
      "cell_type": "code",
      "execution_count": 38,
      "metadata": {
        "id": "EQjP40pWyOPJ"
      },
      "outputs": [
        {
          "name": "stdout",
          "output_type": "stream",
          "text": [
            "0.7227414330218068\n"
          ]
        }
      ],
      "source": [
        "length = len(testSet)\n",
        "predictions = []\n",
        "for x in range(length):\n",
        "    predictions.append(nearestclass(getNeighbors(trainingSet, testSet[x], 5)))\n",
        "\n",
        "accuracy1 = getAccuracy(testSet, predictions)\n",
        "print(accuracy1)\n"
      ]
    },
    {
      "cell_type": "code",
      "execution_count": 39,
      "metadata": {
        "id": "6C-AVMbMyW5i"
      },
      "outputs": [],
      "source": [
        "from collections import defaultdict\n",
        "results = defaultdict(int)\n",
        "\n",
        "directory = \"C:/Users/asus/Downloads/Data/genres_original\"\n",
        "\n",
        "i = 1\n",
        "for folder in os.listdir(directory):\n",
        "    results[i] = folder\n",
        "    i += 1"
      ]
    },
    {
      "cell_type": "code",
      "execution_count": 40,
      "metadata": {
        "colab": {
          "base_uri": "https://localhost:8080/",
          "height": 158
        },
        "id": "80pIpV_eyh5B",
        "outputId": "d344ca12-0c17-441b-b353-3f2a86acc0d5"
      },
      "outputs": [
        {
          "name": "stdout",
          "output_type": "stream",
          "text": [
            "rock\n"
          ]
        }
      ],
      "source": [
        "pred = nearestclass( getNeighbors(dataset, feature, 5))\n",
        "print(results[pred])"
      ]
    }
  ],
  "metadata": {
    "colab": {
      "provenance": []
    },
    "kernelspec": {
      "display_name": "Python 3",
      "name": "python3"
    },
    "language_info": {
      "codemirror_mode": {
        "name": "ipython",
        "version": 3
      },
      "file_extension": ".py",
      "mimetype": "text/x-python",
      "name": "python",
      "nbconvert_exporter": "python",
      "pygments_lexer": "ipython3",
      "version": "3.10.13"
    }
  },
  "nbformat": 4,
  "nbformat_minor": 0
}
